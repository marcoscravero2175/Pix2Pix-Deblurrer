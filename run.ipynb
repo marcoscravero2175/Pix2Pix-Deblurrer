{
  "nbformat": 4,
  "nbformat_minor": 0,
  "metadata": {
    "colab": {
      "name": "run.ipynb",
      "version": "0.3.2",
      "provenance": [],
      "collapsed_sections": []
    },
    "kernelspec": {
      "name": "python3",
      "display_name": "Python 3"
    },
    "accelerator": "GPU"
  },
  "cells": [
    {
      "cell_type": "code",
      "metadata": {
        "id": "7h9d9BOUTCKY",
        "colab_type": "code",
        "colab": {
          "base_uri": "https://localhost:8080/",
          "height": 34
        },
        "outputId": "032d9361-363e-41b9-ee22-77cdf38d3a45"
      },
      "source": [
        "from google.colab import drive\n",
        "drive.mount('/content/drive')"
      ],
      "execution_count": 2,
      "outputs": [
        {
          "output_type": "stream",
          "text": [
            "Drive already mounted at /content/drive; to attempt to forcibly remount, call drive.mount(\"/content/drive\", force_remount=True).\n"
          ],
          "name": "stdout"
        }
      ]
    },
    {
      "cell_type": "code",
      "metadata": {
        "id": "1cRbTmcqk6Mv",
        "colab_type": "code",
        "colab": {}
      },
      "source": [
        "\n",
        "import tensorflow as tf\n",
        "import matplotlib.pyplot as plt\n",
        "import numpy as np\n",
        "from keras.models import load_model\n",
        "import os\n",
        "from PIL import Image\n",
        "import os\n",
        "tf.enable_eager_execution()"
      ],
      "execution_count": 0,
      "outputs": []
    },
    {
      "cell_type": "code",
      "metadata": {
        "id": "vH8C-rUok_I3",
        "colab_type": "code",
        "outputId": "49495a85-a20d-4226-ac4f-e374cd2000af",
        "colab": {
          "base_uri": "https://localhost:8080/",
          "height": 104
        }
      },
      "source": [
        "\n",
        "\n",
        "epoch_number = 1000\n",
        "\n",
        "PATH = \"/content/drive/My Drive/Pix2Pix-Deblurrer\"\n",
        "\n",
        "INPATH = PATH + \"/Blurred\"\n",
        "\n",
        "OUTPATH = PATH + \"/not_blurred_resized\"\n",
        "\n",
        "img_id = os.listdir(INPATH)\n",
        "\n",
        "\n",
        "n = 1000\n",
        "\n",
        "train_n = int(round(n * 0.8))\n",
        "\n",
        "rand_id = np.copy(img_id)\n",
        "print(rand_id)\n",
        "\n",
        "np.random.shuffle(rand_id)\n",
        "\n",
        "train_id = rand_id[:train_n]\n",
        "test_id = rand_id[train_n:n]\n",
        "print(rand_id)\n",
        "print(len(img_id), len(train_id), len(test_id))\n"
      ],
      "execution_count": 4,
      "outputs": [
        {
          "output_type": "stream",
          "text": [
            "['03357.jpg' '10957.jpg' '03780.jpg' ... '07775.jpg' '01595.jpg'\n",
            " '11228.jpg']\n",
            "['11010.jpg' '10713.jpg' '08432.jpg' ... '00785.jpg' '09670.jpg'\n",
            " '01191.jpg']\n",
            "11637 800 200\n"
          ],
          "name": "stdout"
        }
      ]
    },
    {
      "cell_type": "code",
      "metadata": {
        "id": "h4z8BD84lCBh",
        "colab_type": "code",
        "colab": {}
      },
      "source": [
        "\n",
        "IMG_HEIGHT = 256\n",
        "IMG_WIDTH = 256\n",
        "\n",
        "def resize(in_img, og_img, height, width):\n",
        "  in_img = tf.image.resize(in_img, [height, width])\n",
        "  og_img = tf.image.resize(og_img, [height, width])\n",
        "  \n",
        "  return in_img, og_img\n",
        "\n",
        "\n",
        "def normalize(in_img, og_img):\n",
        "  in_img = (in_img / 127.5) - 1\n",
        "  og_img = (og_img / 127.5) - 1\n",
        "  \n",
        "  return in_img, og_img\n",
        "\n",
        "\n",
        "def randomjitter(in_img, og_img):\n",
        "  in_img, og_img = resize(in_img, og_img, 286, 286)\n",
        "  \n",
        "  stacked_img = tf.stack([in_img, og_img], axis = 0)\n",
        "  cropped_img = tf.image.random_crop(stacked_img, size=[2, IMG_HEIGHT, IMG_WIDTH, 3])\n",
        "  \n",
        "  in_img, og_img = cropped_img[0], cropped_img[1]\n",
        "  \n",
        "  if tf.random.uniform(()) > 0.5:\n",
        "    in_img = tf.image.flip_left_right(in_img)\n",
        "    og_img = tf.image.flip_left_right(og_img)\n",
        "    \n",
        "  return in_img, og_img\n"
      ],
      "execution_count": 0,
      "outputs": []
    },
    {
      "cell_type": "code",
      "metadata": {
        "id": "Mbrtd3cklIGN",
        "colab_type": "code",
        "colab": {}
      },
      "source": [
        "\n",
        "@tf.function()\n",
        "def load_image(filename, augment=True):\n",
        "  in_img = tf.cast(tf.image.decode_jpeg(tf.io.read_file(INPATH + \"/\" + filename)),tf.float32)[..., :3]\n",
        "  og_img = tf.cast(tf.image.decode_jpeg(tf.io.read_file(OUTPATH + \"/\" + filename)),tf.float32)[..., :3]\n",
        "\n",
        "  in_img, og_img = resize(in_img, og_img, IMG_HEIGHT,IMG_WIDTH)\n",
        "\n",
        "  if augment:\n",
        "    in_img, og_img = randomjitter(in_img, og_img)\n",
        "\n",
        "  in_img, og_img = normalize(in_img, og_img)\n",
        "\n",
        "  return in_img, og_img\n",
        "\n",
        "@tf.function\n",
        "def load_train_image(filename):\n",
        "  \n",
        "  return load_image(filename, True)\n",
        "\n",
        "\n",
        "\n",
        "def load_test_image(filename):\n",
        "  return load_image(filename, False)\n"
      ],
      "execution_count": 0,
      "outputs": []
    },
    {
      "cell_type": "code",
      "metadata": {
        "id": "rvJ4D45jlJgh",
        "colab_type": "code",
        "colab": {}
      },
      "source": [
        "\n",
        "train_dataset = tf.data.Dataset.from_tensor_slices(train_id)\n",
        "train_dataset = train_dataset.map(load_train_image, num_parallel_calls=1)\n",
        "train_dataset = train_dataset.batch(1)\n",
        "\n",
        "test_dataset = tf.data.Dataset.from_tensor_slices(test_id)\n",
        "test_dataset = test_dataset.map(load_test_image, num_parallel_calls=12)\n",
        "test_dataset = test_dataset.batch(1)\n"
      ],
      "execution_count": 0,
      "outputs": []
    },
    {
      "cell_type": "code",
      "metadata": {
        "id": "jDTIJlSBlL1e",
        "colab_type": "code",
        "colab": {}
      },
      "source": [
        "\n",
        "\n",
        "from tensorflow.keras.layers import *\n",
        "from tensorflow.keras import *\n",
        "def downsample(filters, apply_batchnorm=True):\n",
        "  \n",
        "  result = Sequential()\n",
        "  \n",
        "  initializer = tf.random_normal_initializer(0, 0.02)\n",
        "  \n",
        "  result.add(Conv2D(filters,\n",
        "                    kernel_size=4,\n",
        "                    strides=2,\n",
        "                    padding=\"same\",\n",
        "                    kernel_initializer=initializer,\n",
        "                    use_bias=not apply_batchnorm))\n",
        "  \n",
        "  if apply_batchnorm:\n",
        "    result.add(BatchNormalization())\n",
        "  \n",
        "  result.add(LeakyReLU())\n",
        "  \n",
        "  return result\n",
        "\n",
        "\n",
        "def upsample(filters, apply_dropout=False):\n",
        "  global result\n",
        "  result = Sequential()\n",
        "  \n",
        "  initializer = tf.random_normal_initializer(0, 0.02)\n",
        "  \n",
        "  result.add(Conv2DTranspose(filters,\n",
        "                             kernel_size=4,\n",
        "                             strides=2,\n",
        "                             padding=\"same\",\n",
        "                             kernel_initializer=initializer,\n",
        "                             use_bias=False))\n",
        "  \n",
        "  result.add(BatchNormalization())\n",
        "  \n",
        "  if apply_dropout:\n",
        "    result.add(Dropout(0.5))\n",
        "    \n",
        "  result.add(ReLU())\n",
        "  \n",
        "  return result\n"
      ],
      "execution_count": 0,
      "outputs": []
    },
    {
      "cell_type": "code",
      "metadata": {
        "id": "mxmxylxslPOU",
        "colab_type": "code",
        "outputId": "aed49cd4-851f-4d75-f160-54314050d4d3",
        "colab": {
          "base_uri": "https://localhost:8080/",
          "height": 34
        }
      },
      "source": [
        "\n",
        "def Generator():\n",
        "  \n",
        "  inputs = tf.keras.layers.Input(shape=[None,None,3])\n",
        "  \n",
        "  down_stack = [\n",
        "      downsample(64, apply_batchnorm=False),\n",
        "      downsample(128),\n",
        "      downsample(256),\n",
        "      downsample(512),\n",
        "      downsample(512),\n",
        "      downsample(512),\n",
        "      downsample(512),\n",
        "      downsample(512),\n",
        "  ]\n",
        "\n",
        "  up_stack = [\n",
        "      upsample(512, apply_dropout=True),\n",
        "      upsample(512, apply_dropout=True),\n",
        "      upsample(512, apply_dropout=True),\n",
        "      upsample(512),\n",
        "      upsample(256),\n",
        "      upsample(128),\n",
        "      upsample(64),\n",
        "  ]\n",
        "\n",
        "  initializer = tf.random_normal_initializer(0, 0.02)\n",
        "\n",
        "  last = Conv2DTranspose(filters=3,\n",
        "                         kernel_size=4,\n",
        "                         strides=2,\n",
        "                         padding=\"same\",\n",
        "                         kernel_initializer = initializer,\n",
        "                         activation = \"tanh\")\n",
        "  \n",
        "  x = inputs\n",
        "  s = []\n",
        "\n",
        "  concat = Concatenate()\n",
        "\n",
        "  for down in down_stack:\n",
        "    x = down(x)\n",
        "    s.append(x)\n",
        "\n",
        "  s = reversed(s[:-1])\n",
        "\n",
        "\n",
        "  for up, sk in zip(up_stack, s):\n",
        "\n",
        "    x = up(x)\n",
        "    x = concat([x, sk])\n",
        "\n",
        "  last = last(x)\n",
        "  \n",
        "  return Model(inputs=inputs, outputs=last)\n",
        "  \n",
        "\n",
        "generator = Generator()\n",
        " \n"
      ],
      "execution_count": 9,
      "outputs": [
        {
          "output_type": "execute_result",
          "data": {
            "text/plain": [
              "'\\ninimg = load_train_image(rand_id[2])\\ninimg = tf.expand_dims(inimg,0)\\ngen_output = generator(((inimg[0]+1)*255), training=False)\\nplt.imshow(gen_output[0,...])\\n'"
            ]
          },
          "metadata": {
            "tags": []
          },
          "execution_count": 9
        }
      ]
    },
    {
      "cell_type": "code",
      "metadata": {
        "id": "HVE6M0HMlSpz",
        "colab_type": "code",
        "colab": {}
      },
      "source": [
        "\n",
        "def Discriminator():\n",
        "  ini = Input(shape=[None, None, 3], name=\"input_img\")\n",
        "  gen = Input(shape=[None, None, 3], name=\"gener_img\")\n",
        "\n",
        "  con = concatenate([ini, gen])\n",
        "\n",
        "  initializer = tf.random_normal_initializer(0, 0.02)\n",
        "\n",
        "  down1 = downsample(64, apply_batchnorm=False)(con)\n",
        "  down2 = downsample(128)(down1)\n",
        "  down3 = downsample(256)(down2)\n",
        "  down4 = downsample(512)(down3)\n",
        "\n",
        "  last = tf.keras.layers.Conv2D(filters=1,\n",
        "                                kernel_size=4,\n",
        "                                strides=1,\n",
        "                                kernel_initializer=initializer,\n",
        "                                padding=\"same\")(down4)\n",
        "\n",
        "\n",
        "\n",
        "\n",
        "  return tf.keras.Model(inputs=[ini, gen], outputs=last)\n",
        "\n",
        "discriminator = Discriminator()\n",
        "\n",
        "\n",
        "loss_object = tf.keras.losses.BinaryCrossentropy(from_logits=True)"
      ],
      "execution_count": 0,
      "outputs": []
    },
    {
      "cell_type": "code",
      "metadata": {
        "id": "gAQgssT_lVO0",
        "colab_type": "code",
        "colab": {}
      },
      "source": [
        "\n",
        "\n",
        "def discriminator_loss(disc_real_output, disc_generated_output):\n",
        "  real_loss = loss_object(tf.ones_like(disc_real_output), disc_real_output)\n",
        "\n",
        "  generated_loss = loss_object(tf.zeros_like(disc_generated_output), disc_generated_output)\n",
        "\n",
        "  total_disc_loss = real_loss + generated_loss\n",
        "\n",
        "  return total_disc_loss\n",
        "\n",
        "\n",
        "def generator_loss(disc_generated_output, gen_output, target):\n",
        "  gan_loss = loss_object(tf.ones_like(disc_generated_output), disc_generated_output)\n",
        "\n",
        "  l1_loss = tf.reduce_mean(tf.abs(target - gen_output))\n",
        "  global total_gen_loss\n",
        "  total_gen_loss = gan_loss + (100 * l1_loss)\n",
        "\n",
        "  \n",
        "  return total_gen_loss\n",
        "\n",
        "generator_optimizer = tf.keras.optimizers.Adam(2e-4, beta_1=0.5)\n",
        "discriminator_optimizer = tf.keras.optimizers.Adam(2e-4, beta_1=0.5)\n"
      ],
      "execution_count": 0,
      "outputs": []
    },
    {
      "cell_type": "code",
      "metadata": {
        "id": "ve-zSw9SlYBS",
        "colab_type": "code",
        "outputId": "1163aac9-0184-4740-c576-bac060d80de7",
        "colab": {
          "base_uri": "https://localhost:8080/",
          "height": 34
        }
      },
      "source": [
        "\n",
        "\n",
        "import os\n",
        "\n",
        "\n",
        "checkpoint = tf.train.Checkpoint(generator_optimizer=generator_optimizer,\n",
        "                                 discriminator_optimizer=discriminator_optimizer,\n",
        "                                 generator=generator,\n",
        "                                 discriminator=discriminator)\n",
        "\n",
        "manager = tf.train.CheckpointManager(checkpoint, PATH+'/tf_ckpts', max_to_keep=3)\n",
        "\n",
        "\n",
        "print(manager.checkpoints)\n",
        "\n",
        "def generate_images(model, new_epoch,  test_input, tar, save_filename=True, display_img=True):\n",
        "  prediction = model(test_input, training=True)\n",
        "\n",
        "  if save_filename:\n",
        "    tf.keras.preprocessing.image.save_img(PATH + \"/output/\" + save_filename + \".jpg\", prediction[0,...])\n",
        "\n",
        "  plt.figure(figsize=(10,10))\n",
        "  display_list = [test_input[0], tar[0], prediction[0]]\n",
        "  title = [\"input Image\", \"Ground Truth\", \"Predicted Image\"]\n",
        "\n",
        "  if display_img:\n",
        "    for i in range(3):\n",
        "      plt.subplot(1, 3, i+1)\n",
        "      plt.title(title[i])\n",
        "      plt.imshow(display_list[i] * 0.5 + 0.5)\n",
        "      plt.axis(\"off\")\n",
        "\n",
        "  plt.show\n",
        "  plt.savefig(PATH + \"/output_2/\" + \"Epoch-\"+ new_epoch + \"--\" + str(imgi) + \".jpg\")\n"
      ],
      "execution_count": 12,
      "outputs": [
        {
          "output_type": "stream",
          "text": [
            "['/content/drive/My Drive/Pix2Pix-Deblurrer/tf_ckpts/ckpt-206', '/content/drive/My Drive/Pix2Pix-Deblurrer/tf_ckpts/ckpt-207', '/content/drive/My Drive/Pix2Pix-Deblurrer/tf_ckpts/ckpt-208']\n"
          ],
          "name": "stdout"
        }
      ]
    },
    {
      "cell_type": "code",
      "metadata": {
        "id": "OJulwBnslZ1K",
        "colab_type": "code",
        "colab": {}
      },
      "source": [
        "\n",
        "\n",
        "#@tf.function()\n",
        "def train_step(input_image, target):\n",
        "  \n",
        "  with tf.GradientTape() as gen_tape, tf.GradientTape() as discr_tape:\n",
        "\n",
        "    output_image = generator(input_image, training=True)\n",
        "    \n",
        "    output_gen_discr = discriminator([output_image, input_image], training=True)\n",
        "\n",
        "    output_target_discr = discriminator([target, input_image], training=True)\n",
        "\n",
        "    discr_loss = discriminator_loss(output_target_discr, output_gen_discr)\n",
        "\n",
        "    global gen_loss \n",
        "    \n",
        "    gen_loss = generator_loss(output_gen_discr, output_image, target)\n",
        "\n",
        "\n",
        "    generator_grads = gen_tape.gradient(gen_loss, generator.trainable_variables)\n",
        "    \n",
        "    discriminator_grads = discr_tape.gradient(discr_loss, discriminator.trainable_variables)\n",
        "\n",
        "    generator_optimizer.apply_gradients(zip(generator_grads, generator.trainable_variables))\n",
        "\n",
        "    discriminator_optimizer.apply_gradients(zip(discriminator_grads, discriminator.trainable_variables))\n",
        "\n",
        "from IPython.display import clear_output"
      ],
      "execution_count": 0,
      "outputs": []
    },
    {
      "cell_type": "code",
      "metadata": {
        "id": "pLaS91-7ldgq",
        "colab_type": "code",
        "colab": {}
      },
      "source": [
        "\n",
        "\n",
        "def train(dataset, epochs):\n",
        "  \n",
        "\n",
        "  for epoch in range(epochs-epoch_n):\n",
        "    \n",
        "    global imgi\n",
        "    imgi = 0\n",
        "    for input_image, target in dataset:\n",
        "      train_step(input_image, target)\n",
        "      new_epoch = str(epoch+epoch_n+1)\n",
        "      print(\"epoch \" + new_epoch + \" - train: \" + str(imgi) + \"/\"+str(len(train_id)) + \" Loss = \" + str(total_gen_loss.numpy()))\n",
        "      imgi += 1\n",
        "      \n",
        "\n",
        "      clear_output(wait=True)\n",
        "    imgi = 0\n",
        "    for inp, tar in test_dataset.take(50):\n",
        "      generate_images(generator, new_epoch, inp, tar, str(imgi) + \"_\" + str(epoch), display_img=True)\n",
        "      imgi += 1\n",
        "    save_path = manager.save()\n",
        "    epoch_file = open(PATH+\"/epochs.txt\", \"w\")\n",
        "    epoch_file.write(str(epoch+epoch_n))\n",
        "    epoch_file.close()"
      ],
      "execution_count": 0,
      "outputs": []
    },
    {
      "cell_type": "code",
      "metadata": {
        "id": "t19PggVEkocs",
        "colab_type": "code",
        "outputId": "f534accb-09f2-4a7a-cbfb-d7b842d7c4e9",
        "colab": {
          "base_uri": "https://localhost:8080/",
          "height": 34
        }
      },
      "source": [
        "\n",
        "\n",
        "checkpoint.restore(manager.latest_checkpoint)\n",
        "epoch_n = 0\n",
        "print((open(PATH+\"/epochs.txt\", \"r\").read()))\n",
        "if manager.latest_checkpoint:\n",
        "  print(\"Restored from {}\".format(manager.latest_checkpoint))\n",
        "  epoch_n = int(open(PATH+\"/epochs.txt\", \"r\").read())\n",
        "else:\n",
        "  print(\"-----------------------------------------------Initializing from scratch.--------------------------------------------------------------------------\")\n",
        "train(train_dataset, epoch_number)\n",
        "\n",
        "\"Training complete\""
      ],
      "execution_count": 0,
      "outputs": [
        {
          "output_type": "stream",
          "text": [
            "epoch 219 - train: 12/800 Loss = 7.7954245\n"
          ],
          "name": "stdout"
        }
      ]
    }
  ]
}